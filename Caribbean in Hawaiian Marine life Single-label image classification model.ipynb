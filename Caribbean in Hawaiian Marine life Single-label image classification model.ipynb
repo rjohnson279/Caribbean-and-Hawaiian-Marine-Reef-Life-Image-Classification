{
 "cells": [
  {
   "cell_type": "markdown",
   "metadata": {},
   "source": [
    "# Caribbean and Hawaiian Marine (Reef) Life Image Classification Capstone Project\n",
    "### Ryan Johnson"
   ]
  },
  {
   "cell_type": "markdown",
   "metadata": {},
   "source": [
    "### Project Overview\n",
    "As an avid snorkeler and someone who has always been interested in the unique Marine reef life ecosystem that exists within the water, I have taken many trips to explore reefs in the ocean and taken enormous amounts of images underwater. Still, I am always at a loss for what I am taking an image of; some marine life creatures I know quite well, including a green sea turtle, but others I am at a complete loss in identifying. The image classification model will create a system in which I can upload distinct sea creatures, and the model can properly identify and allow me to know what exactly I am looking at without needing a guide key to identify different underwater animals and fish that exist. The image classification model is simply a way to speed up my comprehension of the underwater creatures and ecosystems I have explored and identify what the sea creatures are when snorkeling in the ocean with my GoPro when taking enormous amounts of pictures and videos.\n",
    "\n",
    "### Problem Statement\n",
    "My capstone project aims to create a Caribbean in Hawaiian Marine (reef) life Single-label image classification model to identify different sea creatures, including sea animals and fish. "
   ]
  },
  {
   "cell_type": "markdown",
   "metadata": {},
   "source": [
    "### Caribbean and Hawaiian Marine (Reef) Life Image Classification (Single Label)\n",
    "The five sea creatures and fish labels I have include:\n",
    "* Cuttlefish\n",
    "* Eagle ray\n",
    "* Green Sea Turtle\n",
    "* Reef triggerfish\n",
    "* Stingray\n",
    "\n",
    "Each of these classes of sea creatures has over 65 images and are a distinct sea creature for creating the single-label image classification model. I took these pictures using my GoPro when snorkeling in the Caribbean and Hawaiian oceans from 2017 to 2025. For my GoPro I have \n"
   ]
  },
  {
   "cell_type": "code",
   "execution_count": null,
   "metadata": {},
   "outputs": [],
   "source": []
  },
  {
   "cell_type": "code",
   "execution_count": null,
   "metadata": {},
   "outputs": [],
   "source": []
  }
 ],
 "metadata": {
  "language_info": {
   "name": "python"
  }
 },
 "nbformat": 4,
 "nbformat_minor": 2
}
